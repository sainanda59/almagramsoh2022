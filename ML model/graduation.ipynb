{
 "cells": [
  {
   "cell_type": "code",
   "execution_count": 1,
   "metadata": {},
   "outputs": [],
   "source": [
    "import pandas as pd"
   ]
  },
  {
   "cell_type": "code",
   "execution_count": 2,
   "metadata": {},
   "outputs": [],
   "source": [
    "import numpy as np"
   ]
  },
  {
   "cell_type": "code",
   "execution_count": 6,
   "metadata": {},
   "outputs": [],
   "source": [
    "stud= pd.read_csv('graduation_data.csv')"
   ]
  },
  {
   "cell_type": "code",
   "execution_count": 7,
   "metadata": {},
   "outputs": [
    {
     "data": {
      "text/html": [
       "<div>\n",
       "<style scoped>\n",
       "    .dataframe tbody tr th:only-of-type {\n",
       "        vertical-align: middle;\n",
       "    }\n",
       "\n",
       "    .dataframe tbody tr th {\n",
       "        vertical-align: top;\n",
       "    }\n",
       "\n",
       "    .dataframe thead th {\n",
       "        text-align: right;\n",
       "    }\n",
       "</style>\n",
       "<table border=\"1\" class=\"dataframe\">\n",
       "  <thead>\n",
       "    <tr style=\"text-align: right;\">\n",
       "      <th></th>\n",
       "      <th>Name</th>\n",
       "      <th>Techstack</th>\n",
       "      <th>Graduation</th>\n",
       "    </tr>\n",
       "  </thead>\n",
       "  <tbody>\n",
       "    <tr>\n",
       "      <th>0</th>\n",
       "      <td>Abhipsha Padhi</td>\n",
       "      <td>REACT</td>\n",
       "      <td>Odisha University of Technology and Research</td>\n",
       "    </tr>\n",
       "    <tr>\n",
       "      <th>1</th>\n",
       "      <td>Abhisekh Das</td>\n",
       "      <td>NODEJS</td>\n",
       "      <td>National Institution of Technology Rourkela</td>\n",
       "    </tr>\n",
       "    <tr>\n",
       "      <th>2</th>\n",
       "      <td>Abinash Biswal</td>\n",
       "      <td>NEXTJS</td>\n",
       "      <td>National Institution of Technology Warangal</td>\n",
       "    </tr>\n",
       "    <tr>\n",
       "      <th>3</th>\n",
       "      <td>Alisha Golari</td>\n",
       "      <td>FLASK</td>\n",
       "      <td>National Institution of Technology Trichy</td>\n",
       "    </tr>\n",
       "    <tr>\n",
       "      <th>4</th>\n",
       "      <td>Alisha Hembram</td>\n",
       "      <td>PYTHON</td>\n",
       "      <td>National Institution of Technology Delhi</td>\n",
       "    </tr>\n",
       "  </tbody>\n",
       "</table>\n",
       "</div>"
      ],
      "text/plain": [
       "             Name Techstack                                    Graduation\n",
       "0  Abhipsha Padhi     REACT  Odisha University of Technology and Research\n",
       "1    Abhisekh Das    NODEJS   National Institution of Technology Rourkela\n",
       "2  Abinash Biswal    NEXTJS   National Institution of Technology Warangal\n",
       "3   Alisha Golari     FLASK     National Institution of Technology Trichy\n",
       "4  Alisha Hembram    PYTHON      National Institution of Technology Delhi"
      ]
     },
     "execution_count": 7,
     "metadata": {},
     "output_type": "execute_result"
    }
   ],
   "source": [
    "stud.head()"
   ]
  },
  {
   "cell_type": "code",
   "execution_count": 5,
   "metadata": {},
   "outputs": [],
   "source": [
    "import ast"
   ]
  },
  {
   "cell_type": "code",
   "execution_count": 8,
   "metadata": {},
   "outputs": [],
   "source": [
    "stud['Techstack']=stud['Techstack'].apply(lambda x:x.split())"
   ]
  },
  {
   "cell_type": "code",
   "execution_count": 9,
   "metadata": {},
   "outputs": [
    {
     "data": {
      "text/html": [
       "<div>\n",
       "<style scoped>\n",
       "    .dataframe tbody tr th:only-of-type {\n",
       "        vertical-align: middle;\n",
       "    }\n",
       "\n",
       "    .dataframe tbody tr th {\n",
       "        vertical-align: top;\n",
       "    }\n",
       "\n",
       "    .dataframe thead th {\n",
       "        text-align: right;\n",
       "    }\n",
       "</style>\n",
       "<table border=\"1\" class=\"dataframe\">\n",
       "  <thead>\n",
       "    <tr style=\"text-align: right;\">\n",
       "      <th></th>\n",
       "      <th>Name</th>\n",
       "      <th>Techstack</th>\n",
       "      <th>Graduation</th>\n",
       "    </tr>\n",
       "  </thead>\n",
       "  <tbody>\n",
       "    <tr>\n",
       "      <th>0</th>\n",
       "      <td>Abhipsha Padhi</td>\n",
       "      <td>[REACT]</td>\n",
       "      <td>Odisha University of Technology and Research</td>\n",
       "    </tr>\n",
       "    <tr>\n",
       "      <th>1</th>\n",
       "      <td>Abhisekh Das</td>\n",
       "      <td>[NODEJS]</td>\n",
       "      <td>National Institution of Technology Rourkela</td>\n",
       "    </tr>\n",
       "    <tr>\n",
       "      <th>2</th>\n",
       "      <td>Abinash Biswal</td>\n",
       "      <td>[NEXTJS]</td>\n",
       "      <td>National Institution of Technology Warangal</td>\n",
       "    </tr>\n",
       "    <tr>\n",
       "      <th>3</th>\n",
       "      <td>Alisha Golari</td>\n",
       "      <td>[FLASK]</td>\n",
       "      <td>National Institution of Technology Trichy</td>\n",
       "    </tr>\n",
       "    <tr>\n",
       "      <th>4</th>\n",
       "      <td>Alisha Hembram</td>\n",
       "      <td>[PYTHON]</td>\n",
       "      <td>National Institution of Technology Delhi</td>\n",
       "    </tr>\n",
       "  </tbody>\n",
       "</table>\n",
       "</div>"
      ],
      "text/plain": [
       "             Name Techstack                                    Graduation\n",
       "0  Abhipsha Padhi   [REACT]  Odisha University of Technology and Research\n",
       "1    Abhisekh Das  [NODEJS]   National Institution of Technology Rourkela\n",
       "2  Abinash Biswal  [NEXTJS]   National Institution of Technology Warangal\n",
       "3   Alisha Golari   [FLASK]     National Institution of Technology Trichy\n",
       "4  Alisha Hembram  [PYTHON]      National Institution of Technology Delhi"
      ]
     },
     "execution_count": 9,
     "metadata": {},
     "output_type": "execute_result"
    }
   ],
   "source": [
    "stud.head()"
   ]
  },
  {
   "cell_type": "code",
   "execution_count": 10,
   "metadata": {},
   "outputs": [],
   "source": [
    "stud['Graduation']=stud['Graduation'].apply(lambda x:x.split())"
   ]
  },
  {
   "cell_type": "code",
   "execution_count": 11,
   "metadata": {},
   "outputs": [
    {
     "data": {
      "text/html": [
       "<div>\n",
       "<style scoped>\n",
       "    .dataframe tbody tr th:only-of-type {\n",
       "        vertical-align: middle;\n",
       "    }\n",
       "\n",
       "    .dataframe tbody tr th {\n",
       "        vertical-align: top;\n",
       "    }\n",
       "\n",
       "    .dataframe thead th {\n",
       "        text-align: right;\n",
       "    }\n",
       "</style>\n",
       "<table border=\"1\" class=\"dataframe\">\n",
       "  <thead>\n",
       "    <tr style=\"text-align: right;\">\n",
       "      <th></th>\n",
       "      <th>Name</th>\n",
       "      <th>Techstack</th>\n",
       "      <th>Graduation</th>\n",
       "    </tr>\n",
       "  </thead>\n",
       "  <tbody>\n",
       "    <tr>\n",
       "      <th>0</th>\n",
       "      <td>Abhipsha Padhi</td>\n",
       "      <td>[REACT]</td>\n",
       "      <td>[Odisha, University, of, Technology, and, Rese...</td>\n",
       "    </tr>\n",
       "    <tr>\n",
       "      <th>1</th>\n",
       "      <td>Abhisekh Das</td>\n",
       "      <td>[NODEJS]</td>\n",
       "      <td>[National, Institution, of, Technology, Rourkela]</td>\n",
       "    </tr>\n",
       "    <tr>\n",
       "      <th>2</th>\n",
       "      <td>Abinash Biswal</td>\n",
       "      <td>[NEXTJS]</td>\n",
       "      <td>[National, Institution, of, Technology, Warangal]</td>\n",
       "    </tr>\n",
       "    <tr>\n",
       "      <th>3</th>\n",
       "      <td>Alisha Golari</td>\n",
       "      <td>[FLASK]</td>\n",
       "      <td>[National, Institution, of, Technology, Trichy]</td>\n",
       "    </tr>\n",
       "    <tr>\n",
       "      <th>4</th>\n",
       "      <td>Alisha Hembram</td>\n",
       "      <td>[PYTHON]</td>\n",
       "      <td>[National, Institution, of, Technology, Delhi]</td>\n",
       "    </tr>\n",
       "  </tbody>\n",
       "</table>\n",
       "</div>"
      ],
      "text/plain": [
       "             Name Techstack                                         Graduation\n",
       "0  Abhipsha Padhi   [REACT]  [Odisha, University, of, Technology, and, Rese...\n",
       "1    Abhisekh Das  [NODEJS]  [National, Institution, of, Technology, Rourkela]\n",
       "2  Abinash Biswal  [NEXTJS]  [National, Institution, of, Technology, Warangal]\n",
       "3   Alisha Golari   [FLASK]    [National, Institution, of, Technology, Trichy]\n",
       "4  Alisha Hembram  [PYTHON]     [National, Institution, of, Technology, Delhi]"
      ]
     },
     "execution_count": 11,
     "metadata": {},
     "output_type": "execute_result"
    }
   ],
   "source": [
    "stud.head()"
   ]
  },
  {
   "cell_type": "code",
   "execution_count": 12,
   "metadata": {},
   "outputs": [],
   "source": [
    "stud['tags']= stud['Techstack']+ stud['Graduation'] "
   ]
  },
  {
   "cell_type": "code",
   "execution_count": 13,
   "metadata": {},
   "outputs": [
    {
     "data": {
      "text/html": [
       "<div>\n",
       "<style scoped>\n",
       "    .dataframe tbody tr th:only-of-type {\n",
       "        vertical-align: middle;\n",
       "    }\n",
       "\n",
       "    .dataframe tbody tr th {\n",
       "        vertical-align: top;\n",
       "    }\n",
       "\n",
       "    .dataframe thead th {\n",
       "        text-align: right;\n",
       "    }\n",
       "</style>\n",
       "<table border=\"1\" class=\"dataframe\">\n",
       "  <thead>\n",
       "    <tr style=\"text-align: right;\">\n",
       "      <th></th>\n",
       "      <th>Name</th>\n",
       "      <th>Techstack</th>\n",
       "      <th>Graduation</th>\n",
       "      <th>tags</th>\n",
       "    </tr>\n",
       "  </thead>\n",
       "  <tbody>\n",
       "    <tr>\n",
       "      <th>0</th>\n",
       "      <td>Abhipsha Padhi</td>\n",
       "      <td>[REACT]</td>\n",
       "      <td>[Odisha, University, of, Technology, and, Rese...</td>\n",
       "      <td>[REACT, Odisha, University, of, Technology, an...</td>\n",
       "    </tr>\n",
       "    <tr>\n",
       "      <th>1</th>\n",
       "      <td>Abhisekh Das</td>\n",
       "      <td>[NODEJS]</td>\n",
       "      <td>[National, Institution, of, Technology, Rourkela]</td>\n",
       "      <td>[NODEJS, National, Institution, of, Technology...</td>\n",
       "    </tr>\n",
       "    <tr>\n",
       "      <th>2</th>\n",
       "      <td>Abinash Biswal</td>\n",
       "      <td>[NEXTJS]</td>\n",
       "      <td>[National, Institution, of, Technology, Warangal]</td>\n",
       "      <td>[NEXTJS, National, Institution, of, Technology...</td>\n",
       "    </tr>\n",
       "    <tr>\n",
       "      <th>3</th>\n",
       "      <td>Alisha Golari</td>\n",
       "      <td>[FLASK]</td>\n",
       "      <td>[National, Institution, of, Technology, Trichy]</td>\n",
       "      <td>[FLASK, National, Institution, of, Technology,...</td>\n",
       "    </tr>\n",
       "    <tr>\n",
       "      <th>4</th>\n",
       "      <td>Alisha Hembram</td>\n",
       "      <td>[PYTHON]</td>\n",
       "      <td>[National, Institution, of, Technology, Delhi]</td>\n",
       "      <td>[PYTHON, National, Institution, of, Technology...</td>\n",
       "    </tr>\n",
       "  </tbody>\n",
       "</table>\n",
       "</div>"
      ],
      "text/plain": [
       "             Name Techstack  \\\n",
       "0  Abhipsha Padhi   [REACT]   \n",
       "1    Abhisekh Das  [NODEJS]   \n",
       "2  Abinash Biswal  [NEXTJS]   \n",
       "3   Alisha Golari   [FLASK]   \n",
       "4  Alisha Hembram  [PYTHON]   \n",
       "\n",
       "                                          Graduation  \\\n",
       "0  [Odisha, University, of, Technology, and, Rese...   \n",
       "1  [National, Institution, of, Technology, Rourkela]   \n",
       "2  [National, Institution, of, Technology, Warangal]   \n",
       "3    [National, Institution, of, Technology, Trichy]   \n",
       "4     [National, Institution, of, Technology, Delhi]   \n",
       "\n",
       "                                                tags  \n",
       "0  [REACT, Odisha, University, of, Technology, an...  \n",
       "1  [NODEJS, National, Institution, of, Technology...  \n",
       "2  [NEXTJS, National, Institution, of, Technology...  \n",
       "3  [FLASK, National, Institution, of, Technology,...  \n",
       "4  [PYTHON, National, Institution, of, Technology...  "
      ]
     },
     "execution_count": 13,
     "metadata": {},
     "output_type": "execute_result"
    }
   ],
   "source": [
    "stud.head()"
   ]
  },
  {
   "cell_type": "code",
   "execution_count": 14,
   "metadata": {},
   "outputs": [],
   "source": [
    "new_df=stud[['Name','tags']]"
   ]
  },
  {
   "cell_type": "code",
   "execution_count": 15,
   "metadata": {},
   "outputs": [
    {
     "data": {
      "text/html": [
       "<div>\n",
       "<style scoped>\n",
       "    .dataframe tbody tr th:only-of-type {\n",
       "        vertical-align: middle;\n",
       "    }\n",
       "\n",
       "    .dataframe tbody tr th {\n",
       "        vertical-align: top;\n",
       "    }\n",
       "\n",
       "    .dataframe thead th {\n",
       "        text-align: right;\n",
       "    }\n",
       "</style>\n",
       "<table border=\"1\" class=\"dataframe\">\n",
       "  <thead>\n",
       "    <tr style=\"text-align: right;\">\n",
       "      <th></th>\n",
       "      <th>Name</th>\n",
       "      <th>tags</th>\n",
       "    </tr>\n",
       "  </thead>\n",
       "  <tbody>\n",
       "    <tr>\n",
       "      <th>0</th>\n",
       "      <td>Abhipsha Padhi</td>\n",
       "      <td>[REACT, Odisha, University, of, Technology, an...</td>\n",
       "    </tr>\n",
       "    <tr>\n",
       "      <th>1</th>\n",
       "      <td>Abhisekh Das</td>\n",
       "      <td>[NODEJS, National, Institution, of, Technology...</td>\n",
       "    </tr>\n",
       "    <tr>\n",
       "      <th>2</th>\n",
       "      <td>Abinash Biswal</td>\n",
       "      <td>[NEXTJS, National, Institution, of, Technology...</td>\n",
       "    </tr>\n",
       "    <tr>\n",
       "      <th>3</th>\n",
       "      <td>Alisha Golari</td>\n",
       "      <td>[FLASK, National, Institution, of, Technology,...</td>\n",
       "    </tr>\n",
       "    <tr>\n",
       "      <th>4</th>\n",
       "      <td>Alisha Hembram</td>\n",
       "      <td>[PYTHON, National, Institution, of, Technology...</td>\n",
       "    </tr>\n",
       "  </tbody>\n",
       "</table>\n",
       "</div>"
      ],
      "text/plain": [
       "             Name                                               tags\n",
       "0  Abhipsha Padhi  [REACT, Odisha, University, of, Technology, an...\n",
       "1    Abhisekh Das  [NODEJS, National, Institution, of, Technology...\n",
       "2  Abinash Biswal  [NEXTJS, National, Institution, of, Technology...\n",
       "3   Alisha Golari  [FLASK, National, Institution, of, Technology,...\n",
       "4  Alisha Hembram  [PYTHON, National, Institution, of, Technology..."
      ]
     },
     "execution_count": 15,
     "metadata": {},
     "output_type": "execute_result"
    }
   ],
   "source": [
    "new_df.head()"
   ]
  },
  {
   "cell_type": "code",
   "execution_count": 16,
   "metadata": {},
   "outputs": [
    {
     "name": "stderr",
     "output_type": "stream",
     "text": [
      "C:\\Users\\HP\\AppData\\Local\\Temp\\ipykernel_16552\\335926201.py:1: SettingWithCopyWarning: \n",
      "A value is trying to be set on a copy of a slice from a DataFrame.\n",
      "Try using .loc[row_indexer,col_indexer] = value instead\n",
      "\n",
      "See the caveats in the documentation: https://pandas.pydata.org/pandas-docs/stable/user_guide/indexing.html#returning-a-view-versus-a-copy\n",
      "  new_df['tags']= new_df['tags'].apply(lambda x:\" \".join(x))\n"
     ]
    }
   ],
   "source": [
    "new_df['tags']= new_df['tags'].apply(lambda x:\" \".join(x))"
   ]
  },
  {
   "cell_type": "code",
   "execution_count": 17,
   "metadata": {},
   "outputs": [],
   "source": [
    "import sklearn"
   ]
  },
  {
   "cell_type": "code",
   "execution_count": 18,
   "metadata": {},
   "outputs": [],
   "source": [
    "from sklearn.feature_extraction.text import CountVectorizer\n",
    "cv= CountVectorizer(max_features=73,stop_words='english')"
   ]
  },
  {
   "cell_type": "code",
   "execution_count": 19,
   "metadata": {},
   "outputs": [],
   "source": [
    "vectors= cv.fit_transform(new_df['tags']).toarray()"
   ]
  },
  {
   "cell_type": "code",
   "execution_count": 20,
   "metadata": {},
   "outputs": [],
   "source": [
    "from nltk.stem.porter import PorterStemmer\n",
    "ps= PorterStemmer()"
   ]
  },
  {
   "cell_type": "code",
   "execution_count": 21,
   "metadata": {},
   "outputs": [],
   "source": [
    "def stem(text):\n",
    "    y=[]\n",
    "    for i in text.split():\n",
    "        y.append(ps.stem(i))\n",
    "        \n",
    "    return \" \".join(y)"
   ]
  },
  {
   "cell_type": "code",
   "execution_count": 22,
   "metadata": {},
   "outputs": [
    {
     "name": "stderr",
     "output_type": "stream",
     "text": [
      "C:\\Users\\HP\\AppData\\Local\\Temp\\ipykernel_16552\\3514595201.py:1: SettingWithCopyWarning: \n",
      "A value is trying to be set on a copy of a slice from a DataFrame.\n",
      "Try using .loc[row_indexer,col_indexer] = value instead\n",
      "\n",
      "See the caveats in the documentation: https://pandas.pydata.org/pandas-docs/stable/user_guide/indexing.html#returning-a-view-versus-a-copy\n",
      "  new_df['tags']=new_df['tags'].apply(stem)\n"
     ]
    }
   ],
   "source": [
    "new_df['tags']=new_df['tags'].apply(stem)"
   ]
  },
  {
   "cell_type": "code",
   "execution_count": 23,
   "metadata": {},
   "outputs": [],
   "source": [
    "from sklearn.metrics.pairwise import cosine_similarity"
   ]
  },
  {
   "cell_type": "code",
   "execution_count": 24,
   "metadata": {},
   "outputs": [],
   "source": [
    "similarity= cosine_similarity(vectors)"
   ]
  },
  {
   "cell_type": "code",
   "execution_count": 25,
   "metadata": {},
   "outputs": [
    {
     "data": {
      "text/plain": [
       "2"
      ]
     },
     "execution_count": 25,
     "metadata": {},
     "output_type": "execute_result"
    }
   ],
   "source": [
    "new_df[new_df['Name']=='Abinash Biswal'].index[0]"
   ]
  },
  {
   "cell_type": "code",
   "execution_count": 31,
   "metadata": {},
   "outputs": [],
   "source": [
    "def recommend(student):\n",
    "    stud_index=new_df[new_df['Name']==student].index[0]\n",
    "    distances = similarity[stud_index]\n",
    "    stud_list= sorted(list(enumerate(distances)),reverse=True,key = lambda x:x[1])[1:7]\n",
    "    return stud_list"
   ]
  },
  {
   "cell_type": "code",
   "execution_count": 42,
   "metadata": {},
   "outputs": [],
   "source": [
    "names=recommend('Rajeev kumar padhiari')"
   ]
  },
  {
   "cell_type": "code",
   "execution_count": 43,
   "metadata": {},
   "outputs": [
    {
     "name": "stdout",
     "output_type": "stream",
     "text": [
      "Animesh Kumar Dash\n",
      "Ashish Mohapatra \n",
      "Ashutosh Mohanty\n",
      "Pradeepta Kumar Sahoo \n",
      "Sunshina Nayak \n",
      "Vivek Parida \n"
     ]
    }
   ],
   "source": [
    "for i in names:\n",
    "    print(new_df.iloc[i[0]].Name)"
   ]
  },
  {
   "cell_type": "code",
   "execution_count": 44,
   "metadata": {},
   "outputs": [],
   "source": [
    "names=recommend('Animesh Nayak')"
   ]
  },
  {
   "cell_type": "code",
   "execution_count": 45,
   "metadata": {},
   "outputs": [
    {
     "name": "stdout",
     "output_type": "stream",
     "text": [
      "PRATEEK SASWAT RATH \n",
      "Ashutosh Panda \n",
      "Harshit Patro\n",
      "Rakesh Kumar Pradhan\n",
      "SANJEET RATH\n",
      "Swagat Shekhar Seth\n"
     ]
    }
   ],
   "source": [
    "for i in names:\n",
    "    print(new_df.iloc[i[0]].Name)"
   ]
  },
  {
   "cell_type": "code",
   "execution_count": null,
   "metadata": {},
   "outputs": [],
   "source": []
  }
 ],
 "metadata": {
  "kernelspec": {
   "display_name": "Python 3.9.2 64-bit",
   "language": "python",
   "name": "python3"
  },
  "language_info": {
   "codemirror_mode": {
    "name": "ipython",
    "version": 3
   },
   "file_extension": ".py",
   "mimetype": "text/x-python",
   "name": "python",
   "nbconvert_exporter": "python",
   "pygments_lexer": "ipython3",
   "version": "3.9.2"
  },
  "orig_nbformat": 4,
  "vscode": {
   "interpreter": {
    "hash": "f6246b25e200e4c5124e3e61789ac81350562f0761bbcf92ad9e48654207659c"
   }
  }
 },
 "nbformat": 4,
 "nbformat_minor": 2
}
